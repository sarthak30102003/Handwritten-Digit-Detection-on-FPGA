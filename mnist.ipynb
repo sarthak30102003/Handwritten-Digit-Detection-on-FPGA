{
 "cells": [
  {
   "cell_type": "code",
   "execution_count": 35,
   "id": "70eb16ce",
   "metadata": {},
   "outputs": [],
   "source": [
    "import numpy as np\n",
    "import time\n",
    "import matplotlib.pyplot\n",
    "import csv"
   ]
  },
  {
   "cell_type": "code",
   "execution_count": 36,
   "id": "e48ad471",
   "metadata": {},
   "outputs": [],
   "source": [
    "def convert (imgs, labels, outfile, n):\n",
    "    imgf = open(imgs, \"rb\")\n",
    "    labelf = open(labels, \"rb\")\n",
    "    csvf = open(outfile, \"w\")\n",
    "\n",
    "    imgf.read(16)\n",
    "    labelf.read(8)\n",
    "    images = []\n",
    "\n",
    "    for i in range (n):\n",
    "        image = [ord(labelf.read(1))]\n",
    "        for j in range (28*28):\n",
    "            image.append(ord(imgf.read(1)))\n",
    "        images.append(image)\n",
    "\n",
    "    for image in images:\n",
    "        csvf.write(\",\".join(str(pix) for pix in image) + \"\\n\")\n",
    "    imgf.close()\n",
    "    labelf.close()\n",
    "    csvf.close()\n"
   ]
  },
  {
   "cell_type": "code",
   "execution_count": 37,
   "id": "7859a02d",
   "metadata": {},
   "outputs": [],
   "source": [
    "mnist_train_x = \"train-images.idx3-ubyte\"\n",
    "mnist_train_y = \"train-labels.idx1-ubyte\"\n",
    "mnist_test_x = \"t10k-images.idx3-ubyte\"\n",
    "mnist_test_y = \"t10k-labels.idx1-ubyte\""
   ]
  },
  {
   "cell_type": "code",
   "execution_count": 38,
   "id": "af299cd7",
   "metadata": {},
   "outputs": [],
   "source": [
    "convert(mnist_train_x, mnist_train_y,\"train.csv\", 60000)\n",
    "convert(mnist_test_x, mnist_test_y,\"test.csv\", 10000)"
   ]
  },
  {
   "cell_type": "code",
   "execution_count": 39,
   "id": "73be5a4f",
   "metadata": {},
   "outputs": [
    {
     "name": "stdout",
     "output_type": "stream",
     "text": [
      "60000\n"
     ]
    }
   ],
   "source": [
    "train_file = open(\"train.csv\", \"r\")\n",
    "train_list = train_file.readlines()\n",
    "train_file.close()\n",
    "print(len(train_list))"
   ]
  },
  {
   "cell_type": "code",
   "execution_count": 40,
   "id": "a2225a2e",
   "metadata": {},
   "outputs": [
    {
     "data": {
      "text/plain": [
       "'5,0,0,0,0,0,0,0,0,0,0,0,0,0,0,0,0,0,0,0,0,0,0,0,0,0,0,0,0,0,0,0,0,0,0,0,0,0,0,0,0,0,0,0,0,0,0,0,0,0,0,0,0,0,0,0,0,0,0,0,0,0,0,0,0,0,0,0,0,0,0,0,0,0,0,0,0,0,0,0,0,0,0,0,0,0,0,0,0,0,0,0,0,0,0,0,0,0,0,0,0,0,0,0,0,0,0,0,0,0,0,0,0,0,0,0,0,0,0,0,0,0,0,0,0,0,0,0,0,0,0,0,0,0,0,0,0,0,0,0,0,0,0,0,0,0,0,0,0,0,0,0,0,0,0,0,0,0,0,0,0,0,0,0,0,0,0,0,0,0,0,0,0,0,0,0,0,0,0,0,0,0,2,18,46,136,136,244,255,241,103,0,0,0,0,0,0,0,0,0,0,0,0,0,0,0,0,0,15,94,163,253,253,253,253,238,218,204,35,0,0,0,0,0,0,0,0,0,0,0,0,0,0,0,0,0,131,253,253,253,253,237,200,57,0,0,0,0,0,0,0,0,0,0,0,0,0,0,0,0,0,0,0,155,246,253,247,108,65,45,0,0,0,0,0,0,0,0,0,0,0,0,0,0,0,0,0,0,0,0,0,207,253,253,230,0,0,0,0,0,0,0,0,0,0,0,0,0,0,0,0,0,0,0,0,0,0,0,0,157,253,253,125,0,0,0,0,0,0,0,0,0,0,0,0,0,0,0,0,0,0,0,0,0,0,0,0,89,253,250,57,0,0,0,0,0,0,0,0,0,0,0,0,0,0,0,0,0,0,0,0,0,0,0,0,89,253,247,0,0,0,0,0,0,0,0,0,0,0,0,0,0,0,0,0,0,0,0,0,0,0,0,0,89,253,247,0,0,0,0,0,0,0,0,0,0,0,0,0,0,0,0,0,0,0,0,0,0,0,0,0,89,253,247,0,0,0,0,0,0,0,0,0,0,0,0,0,0,0,0,0,0,0,0,0,0,0,0,0,21,231,249,34,0,0,0,0,0,0,0,0,0,0,0,0,0,0,0,0,0,0,0,0,0,0,0,0,0,225,253,231,213,213,123,16,0,0,0,0,0,0,0,0,0,0,0,0,0,0,0,0,0,0,0,0,0,172,253,253,253,253,253,190,63,0,0,0,0,0,0,0,0,0,0,0,0,0,0,0,0,0,0,0,0,2,116,72,124,209,253,253,141,0,0,0,0,0,0,0,0,0,0,0,0,0,0,0,0,0,0,0,0,0,0,0,0,25,219,253,206,3,0,0,0,0,0,0,0,0,0,0,0,0,0,0,0,0,0,0,0,0,0,0,0,0,104,246,253,5,0,0,0,0,0,0,0,0,0,0,0,0,0,0,0,0,0,0,0,0,0,0,0,0,0,213,253,5,0,0,0,0,0,0,0,0,0,0,0,0,0,0,0,0,0,0,0,0,0,0,0,0,26,226,253,5,0,0,0,0,0,0,0,0,0,0,0,0,0,0,0,0,0,0,0,0,0,0,0,0,132,253,209,3,0,0,0,0,0,0,0,0,0,0,0,0,0,0,0,0,0,0,0,0,0,0,0,0,78,253,86,0,0,0,0,0,0,0,0,0,0,0,0,0,0,0,0,0,0,0,0,0,0,0,0,0,0,0,0,0,0,0,0,0,0,0,0,0,0,0,0,0,0,0,0,0,0,0,0,0,0,0,0,0,0,0,0,0,0,0,0,0,0,0,0,0\\n'"
      ]
     },
     "execution_count": 40,
     "metadata": {},
     "output_type": "execute_result"
    }
   ],
   "source": [
    "train_list[100]"
   ]
  },
  {
   "cell_type": "code",
   "execution_count": 41,
   "id": "2371ef69",
   "metadata": {},
   "outputs": [
    {
     "data": {
      "text/plain": [
       "<matplotlib.image.AxesImage at 0x21861d37ed0>"
      ]
     },
     "execution_count": 41,
     "metadata": {},
     "output_type": "execute_result"
    },
    {
     "data": {
      "image/png": "[encoded data removed]",
      "text/plain": [
       "<Figure size 640x480 with 1 Axes>"
      ]
     },
     "metadata": {},
     "output_type": "display_data"
    }
   ],
   "source": [
    "values = train_list[0].split(\",\")\n",
    "image_array = np.asarray(values[1:], dtype=np.uint8).reshape(28, 28)  \n",
    "matplotlib.pyplot.imshow(image_array, cmap=\"Greys\", interpolation=\"None\")"
   ]
  },
  {
   "cell_type": "code",
   "execution_count": 42,
   "id": "efada5b7",
   "metadata": {},
   "outputs": [
    {
     "name": "stdout",
     "output_type": "stream",
     "text": [
      "10000\n"
     ]
    }
   ],
   "source": [
    "test_file = open(\"test.csv\", \"r\")\n",
    "test_list = test_file.readlines()\n",
    "test_file.close()\n",
    "print(len(test_list))"
   ]
  },
  {
   "cell_type": "code",
   "execution_count": 43,
   "id": "a47cd361",
   "metadata": {},
   "outputs": [
    {
     "data": {
      "text/plain": [
       "'\\nW1.mem → For 128 x 784 layer\\nW2.mem → For 64 x 128 layer\\nW3.mem → For 10 x 64 layer\\n'"
      ]
     },
     "execution_count": 43,
     "metadata": {},
     "output_type": "execute_result"
    }
   ],
   "source": [
    "class DNN:\n",
    "    def __init__(self, sizes=[784, 128, 64, 10], epochs=10, learning_rate=0.01):\n",
    "        self.sizes = sizes\n",
    "        self.epochs = epochs\n",
    "        self.learning_rate = learning_rate\n",
    "\n",
    "        input_layer = sizes[0]\n",
    "        hidden_1 = sizes[1]\n",
    "        hidden_2 = sizes[2]\n",
    "        output_layer = sizes[3]\n",
    "\n",
    "        self.params = {\n",
    "                'W1': np.random.randn(hidden_1, input_layer) * np.sqrt(1.0 / hidden_1),     # 128 * 784\n",
    "                'W2': np.random.randn(hidden_2, hidden_1) * np.sqrt(1.0 / hidden_2),        # 64 * 128\n",
    "                'W3': np.random.randn(output_layer, hidden_2) * np.sqrt(1.0 / output_layer) # 10 * 64\n",
    "        }\n",
    "        # self.weights = [np.random.randn(y, x) for x, y in zip(sizes)]\n",
    "\n",
    "    def relu (self, x, derivative=False):\n",
    "        if derivative:\n",
    "            return np.where(x > 0, 1, 0)\n",
    "        return np.maximum(0, x)\n",
    "\n",
    "    def softmax(self, x, derivative=False):\n",
    "        exps = np.exp(x-x.max())\n",
    "        if derivative:\n",
    "            return exps / np.sum(exps, axis = 0) * (1 - exps / np.sum(exps, axis = 0))\n",
    "        return exps / np.sum(exps, axis = 0)\n",
    "    \n",
    "    def forward_pass(self, x_train):\n",
    "        # This is a placeholder for the forward pass of the network\n",
    "        params = self.params\n",
    "        params['A0'] = x_train  # 784 * 1\n",
    "\n",
    "        # input layer to hidden layer 1\n",
    "        params['Z1'] = np.dot(params['W1'], params['A0']) # 128 * 1\n",
    "        params['A1'] = self.relu(params['Z1'])\n",
    "\n",
    "        # hidden layer 1 to hidden layer 2\n",
    "        params['Z2'] = np.dot(params['W2'], params['A1']) # 64 * 1\n",
    "        params['A2'] = self.relu(params['Z2'])\n",
    "\n",
    "        # hidden layer 2 to output layer\n",
    "        params['Z3'] = np.dot(params['W3'], params['A2']) # 10 * 1\n",
    "        params['A3'] = self.softmax(params['Z3'])\n",
    "\n",
    "        return params['A3']\n",
    "\n",
    "    def backward_pass(self, y_train, output):\n",
    "        # This is a placeholder for the backward pass of the network\n",
    "        params = self.params\n",
    "        change_w = {}\n",
    "\n",
    "        # calculate w3 update\n",
    "        error = 2 * (output - y_train) / output.shape[0] * self.softmax(params['Z3'], derivative=True)\n",
    "        change_w['W3'] = np.outer(error, params['A2'])\n",
    "\n",
    "        # calculate w2 update\n",
    "        error = np.dot(params['W3'].T, error) * self.relu(params['Z2'], derivative=True)\n",
    "        change_w['W2'] = np.outer(error, params['A1'])\n",
    "\n",
    "        # calculate w1 update\n",
    "        error = np.dot(params['W2'].T, error) * self.relu(params['Z1'], derivative=True)\n",
    "        change_w['W1'] = np.outer(error, params['A0'])\n",
    "\n",
    "        return change_w\n",
    "\n",
    "    def update_weights(self, change_w, learning_rate):\n",
    "        # This is a placeholder for the weight update of the network\n",
    "        for key, val in change_w.items():\n",
    "            self.params[key] = self.params[key] - self.learning_rate * val\n",
    "  \n",
    "    def compute_accuracy(self, test_data):\n",
    "        # This is a placeholder for the accuracy computation of the network\n",
    "        predictions = []\n",
    "        for x in test_data:\n",
    "                values = x.split(\",\")\n",
    "                inputs = (np.asarray(values[1:], dtype=np.float32) / 255.0 * 0.99) + 0.01\n",
    "                targets = np.zeros(10) + 0.01\n",
    "                targets[int(values[0])] = 0.99\n",
    "                output = self.forward_pass(inputs)\n",
    "                pred = np.argmax(output)\n",
    "                predictions.append(pred == np.argmax(targets))\n",
    "\n",
    "        return np.mean(predictions)       \n",
    "\n",
    "    def train(self, train_list, test_list):\n",
    "        # This is a placeholder for the training of the network\n",
    "        start_time = time.time()\n",
    "        for i in range (self.epochs):\n",
    "            for x in train_list:\n",
    "                values = x.split(\",\")\n",
    "                inputs = (np.asarray(values[1:], dtype=np.float32) / 255.0 * 0.99) + 0.01\n",
    "                targets = np.zeros(10) + 0.01\n",
    "                targets[int(values[0])] = 0.99\n",
    "                output = self.forward_pass(inputs)\n",
    "                change_w = self.backward_pass(targets, output)\n",
    "                self.update_weights(change_w, self.learning_rate)\n",
    "\n",
    "            accuracy = self.compute_accuracy(test_list)\n",
    "            print('Epoch: {0}, Time Spent: {1:.2f}s, Accuracy: {2:.2f}%'.format(\n",
    "              i+1, time.time() - start_time, accuracy * 100\n",
    "          ))\n",
    "            \n",
    "    def export_weights_to_mem(self, base_filename=\"W\"):\n",
    "        for i, key in enumerate(['W1', 'W2', 'W3'], start=1):\n",
    "            weights = self.params[key]\n",
    "            mem_filename = f\"{base_filename}{i}.mem\"\n",
    "            csv_filename = f\"{base_filename}{i}.csv\"\n",
    "\n",
    "            # Write binary .mem file (32-bit IEEE 754)\n",
    "            with open(mem_filename, \"w\") as mem_file:\n",
    "                for row in weights:\n",
    "                    for weight in row:\n",
    "                        fp32 = np.float32(weight)\n",
    "                        binary_string = format(np.frombuffer(fp32.tobytes(), dtype=np.uint32)[0], '032b')\n",
    "                        mem_file.write(binary_string + \"\\n\")\n",
    "\n",
    "            # Write decimal .csv file\n",
    "            with open(csv_filename, \"w\", newline='') as csv_file:\n",
    "                writer = csv.writer(csv_file)\n",
    "                for row in weights:\n",
    "                    writer.writerow([f\"{val:.8f}\" for val in row])  # Up to 8 decimal places\n",
    "\n",
    "            print(f\"✅ Exported {key} to {mem_filename} (binary) and {csv_filename} (decimal)\")\n",
    "  \n",
    "\n",
    "'''\n",
    "W1.mem → For 128 x 784 layer\n",
    "W2.mem → For 64 x 128 layer\n",
    "W3.mem → For 10 x 64 layer\n",
    "'''\n"
   ]
  },
  {
   "cell_type": "code",
   "execution_count": 44,
   "id": "f0839519",
   "metadata": {},
   "outputs": [
    {
     "name": "stdout",
     "output_type": "stream",
     "text": [
      "Epoch: 1, Time Spent: 25.69s, Accuracy: 90.68%\n",
      "Epoch: 2, Time Spent: 64.91s, Accuracy: 92.88%\n",
      "Epoch: 3, Time Spent: 114.75s, Accuracy: 94.01%\n",
      "Epoch: 4, Time Spent: 150.12s, Accuracy: 94.70%\n",
      "Epoch: 5, Time Spent: 191.82s, Accuracy: 95.08%\n",
      "Epoch: 6, Time Spent: 222.51s, Accuracy: 95.42%\n",
      "Epoch: 7, Time Spent: 263.14s, Accuracy: 95.69%\n",
      "Epoch: 8, Time Spent: 315.58s, Accuracy: 95.86%\n",
      "Epoch: 9, Time Spent: 357.34s, Accuracy: 96.02%\n",
      "Epoch: 10, Time Spent: 413.53s, Accuracy: 96.14%\n",
      "Epoch: 11, Time Spent: 450.68s, Accuracy: 96.24%\n",
      "Epoch: 12, Time Spent: 493.28s, Accuracy: 96.29%\n",
      "Epoch: 13, Time Spent: 529.07s, Accuracy: 96.29%\n",
      "Epoch: 14, Time Spent: 572.85s, Accuracy: 96.28%\n",
      "Epoch: 15, Time Spent: 616.16s, Accuracy: 96.31%\n",
      "Epoch: 16, Time Spent: 659.40s, Accuracy: 96.29%\n",
      "Epoch: 17, Time Spent: 695.38s, Accuracy: 96.22%\n",
      "Epoch: 18, Time Spent: 735.21s, Accuracy: 96.18%\n",
      "Epoch: 19, Time Spent: 765.73s, Accuracy: 96.17%\n",
      "Epoch: 20, Time Spent: 795.24s, Accuracy: 96.18%\n",
      "Epoch: 21, Time Spent: 826.50s, Accuracy: 96.18%\n",
      "Epoch: 22, Time Spent: 855.59s, Accuracy: 96.21%\n",
      "Epoch: 23, Time Spent: 892.75s, Accuracy: 96.20%\n",
      "Epoch: 24, Time Spent: 932.72s, Accuracy: 96.22%\n",
      "Epoch: 25, Time Spent: 971.78s, Accuracy: 96.18%\n",
      "Epoch: 26, Time Spent: 1003.19s, Accuracy: 96.21%\n",
      "Epoch: 27, Time Spent: 1044.50s, Accuracy: 96.11%\n",
      "Epoch: 28, Time Spent: 1087.66s, Accuracy: 96.03%\n",
      "Epoch: 29, Time Spent: 1112.06s, Accuracy: 96.17%\n",
      "Epoch: 30, Time Spent: 1147.03s, Accuracy: 96.14%\n",
      "Epoch: 31, Time Spent: 1191.65s, Accuracy: 96.05%\n",
      "Epoch: 32, Time Spent: 1247.44s, Accuracy: 96.22%\n",
      "Epoch: 33, Time Spent: 1302.94s, Accuracy: 96.39%\n",
      "Epoch: 34, Time Spent: 1343.05s, Accuracy: 96.25%\n",
      "Epoch: 35, Time Spent: 1372.26s, Accuracy: 96.33%\n",
      "Epoch: 36, Time Spent: 1406.97s, Accuracy: 96.34%\n",
      "Epoch: 37, Time Spent: 1437.44s, Accuracy: 96.35%\n",
      "Epoch: 38, Time Spent: 1466.50s, Accuracy: 95.95%\n",
      "Epoch: 39, Time Spent: 1491.91s, Accuracy: 96.33%\n",
      "Epoch: 40, Time Spent: 1516.31s, Accuracy: 96.72%\n",
      "Epoch: 41, Time Spent: 1541.32s, Accuracy: 96.38%\n",
      "Epoch: 42, Time Spent: 1593.27s, Accuracy: 96.42%\n",
      "Epoch: 43, Time Spent: 1658.74s, Accuracy: 95.93%\n",
      "Epoch: 44, Time Spent: 1684.76s, Accuracy: 96.62%\n",
      "Epoch: 45, Time Spent: 1719.29s, Accuracy: 96.20%\n",
      "Epoch: 46, Time Spent: 1768.03s, Accuracy: 96.29%\n",
      "Epoch: 47, Time Spent: 1795.10s, Accuracy: 96.48%\n",
      "Epoch: 48, Time Spent: 1819.57s, Accuracy: 96.65%\n",
      "Epoch: 49, Time Spent: 1843.60s, Accuracy: 96.55%\n",
      "Epoch: 50, Time Spent: 1869.20s, Accuracy: 96.49%\n",
      "Epoch: 51, Time Spent: 1896.85s, Accuracy: 96.79%\n",
      "Epoch: 52, Time Spent: 1923.21s, Accuracy: 96.47%\n",
      "Epoch: 53, Time Spent: 1952.89s, Accuracy: 96.45%\n",
      "Epoch: 54, Time Spent: 1977.22s, Accuracy: 96.99%\n",
      "Epoch: 55, Time Spent: 2001.52s, Accuracy: 96.51%\n",
      "Epoch: 56, Time Spent: 2025.71s, Accuracy: 96.93%\n",
      "Epoch: 57, Time Spent: 2049.98s, Accuracy: 96.80%\n",
      "Epoch: 58, Time Spent: 2074.29s, Accuracy: 96.89%\n",
      "Epoch: 59, Time Spent: 2099.04s, Accuracy: 96.95%\n",
      "Epoch: 60, Time Spent: 2138.07s, Accuracy: 96.79%\n",
      "Epoch: 61, Time Spent: 2191.90s, Accuracy: 96.96%\n",
      "Epoch: 62, Time Spent: 2238.01s, Accuracy: 96.94%\n",
      "Epoch: 63, Time Spent: 2259.86s, Accuracy: 96.94%\n",
      "Epoch: 64, Time Spent: 2283.94s, Accuracy: 96.92%\n",
      "Epoch: 65, Time Spent: 2308.23s, Accuracy: 97.02%\n",
      "Epoch: 66, Time Spent: 2332.91s, Accuracy: 96.47%\n",
      "Epoch: 67, Time Spent: 2357.10s, Accuracy: 96.21%\n",
      "Epoch: 68, Time Spent: 2381.21s, Accuracy: 96.91%\n",
      "Epoch: 69, Time Spent: 2405.39s, Accuracy: 96.62%\n",
      "Epoch: 70, Time Spent: 2429.71s, Accuracy: 96.47%\n",
      "Epoch: 71, Time Spent: 2454.60s, Accuracy: 97.07%\n",
      "Epoch: 72, Time Spent: 2480.11s, Accuracy: 96.74%\n",
      "Epoch: 73, Time Spent: 2504.73s, Accuracy: 96.59%\n",
      "Epoch: 74, Time Spent: 2529.40s, Accuracy: 96.83%\n",
      "Epoch: 75, Time Spent: 2560.73s, Accuracy: 97.08%\n",
      "Epoch: 76, Time Spent: 2618.02s, Accuracy: 97.12%\n",
      "Epoch: 77, Time Spent: 2671.57s, Accuracy: 96.94%\n",
      "Epoch: 78, Time Spent: 2721.68s, Accuracy: 97.07%\n",
      "Epoch: 79, Time Spent: 2763.08s, Accuracy: 97.11%\n",
      "Epoch: 80, Time Spent: 2796.62s, Accuracy: 97.18%\n",
      "Epoch: 81, Time Spent: 2829.66s, Accuracy: 97.12%\n",
      "Epoch: 82, Time Spent: 2862.63s, Accuracy: 97.03%\n",
      "Epoch: 83, Time Spent: 2893.33s, Accuracy: 96.68%\n",
      "Epoch: 84, Time Spent: 2924.03s, Accuracy: 96.77%\n",
      "Epoch: 85, Time Spent: 2957.75s, Accuracy: 96.98%\n",
      "Epoch: 86, Time Spent: 2988.64s, Accuracy: 97.12%\n",
      "Epoch: 87, Time Spent: 3019.00s, Accuracy: 97.16%\n",
      "Epoch: 88, Time Spent: 3050.30s, Accuracy: 97.18%\n",
      "Epoch: 89, Time Spent: 3081.45s, Accuracy: 97.11%\n",
      "Epoch: 90, Time Spent: 3113.39s, Accuracy: 97.03%\n",
      "Epoch: 91, Time Spent: 3143.80s, Accuracy: 97.17%\n",
      "Epoch: 92, Time Spent: 3175.83s, Accuracy: 96.74%\n",
      "Epoch: 93, Time Spent: 3213.53s, Accuracy: 97.13%\n",
      "Epoch: 94, Time Spent: 3248.96s, Accuracy: 96.85%\n",
      "Epoch: 95, Time Spent: 3281.84s, Accuracy: 97.09%\n",
      "Epoch: 96, Time Spent: 3308.39s, Accuracy: 97.16%\n",
      "Epoch: 97, Time Spent: 3334.14s, Accuracy: 97.06%\n",
      "Epoch: 98, Time Spent: 3359.90s, Accuracy: 96.73%\n",
      "Epoch: 99, Time Spent: 3384.49s, Accuracy: 97.25%\n",
      "Epoch: 100, Time Spent: 3408.77s, Accuracy: 97.07%\n"
     ]
    }
   ],
   "source": [
    "dnn = DNN(sizes=[784, 128, 64, 10], epochs=100, learning_rate=0.01)\n",
    "dnn.train(train_list, test_list)"
   ]
  },
  {
   "cell_type": "code",
   "execution_count": 45,
   "id": "8c9d4ae4",
   "metadata": {},
   "outputs": [
    {
     "name": "stdout",
     "output_type": "stream",
     "text": [
      "✅ Exported W1 to W1.mem (binary) and W1.csv (decimal)\n",
      "✅ Exported W2 to W2.mem (binary) and W2.csv (decimal)\n",
      "✅ Exported W3 to W3.mem (binary) and W3.csv (decimal)\n"
     ]
    }
   ],
   "source": [
    "dnn.export_weights_to_mem()"
   ]
  }
 ],
 "metadata": {
  "kernelspec": {
   "display_name": "Python 3",
   "language": "python",
   "name": "python3"
  },
  "language_info": {
   "codemirror_mode": {
    "name": "ipython",
    "version": 3
   },
   "file_extension": ".py",
   "mimetype": "text/x-python",
   "name": "python",
   "nbconvert_exporter": "python",
   "pygments_lexer": "ipython3",
   "version": "3.13.4"
  }
 },
 "nbformat": 4,
 "nbformat_minor": 5
}
